{
 "cells": [
  {
   "cell_type": "code",
   "execution_count": 1,
   "id": "49f33f2b",
   "metadata": {},
   "outputs": [],
   "source": [
    "import pandas as pd\n",
    "from statsmodels.formula.api import ols"
   ]
  },
  {
   "cell_type": "code",
   "execution_count": null,
   "id": "7b9b4d88",
   "metadata": {},
   "outputs": [],
   "source": [
    "estate = pd.read_excel('C:/Users/Juan Miranda/Documents/negocios/Cursos/Python for Economics/Real estate valuation data set.xlsx')\n",
    "estate.columns=['N','date','house_age','distance_station','number_stores','lat','lon','house_price']\n",
    "estate.drop('N',axis=1,inplace=True)\n",
    "estate.describe().transpose()\n",
    "description=estate.describe().transpose()"
   ]
  }
 ],
 "metadata": {
  "kernelspec": {
   "display_name": "Python 3 (ipykernel)",
   "language": "python",
   "name": "python3"
  },
  "language_info": {
   "codemirror_mode": {
    "name": "ipython",
    "version": 3
   },
   "file_extension": ".py",
   "mimetype": "text/x-python",
   "name": "python",
   "nbconvert_exporter": "python",
   "pygments_lexer": "ipython3",
   "version": "3.9.12"
  }
 },
 "nbformat": 4,
 "nbformat_minor": 5
}
